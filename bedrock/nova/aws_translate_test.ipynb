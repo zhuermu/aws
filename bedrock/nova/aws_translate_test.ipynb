{
 "cells": [
  {
   "cell_type": "code",
   "execution_count": null,
   "metadata": {},
   "outputs": [],
   "source": [
    "texts = [\n",
    "    [\n",
    "        \"Give it a try!\",\n",
    "        \"Take a moment to try it by yourself, and see how easy it is to work with PDFs in Foxit PDF Editor!\",\n",
    "        \"For additional help and instructions: Go to the Discover view\",\n",
    "        \"Tap Help\",\n",
    "    ]\n",
    "]\n",
    "\n",
    "target_language = \"English\"\n",
    "\n",
    "# model =\"us.amazon.nova-pro-v1:0\"\n",
    "model=\"us.amazon.nova-lite-v1:0\""
   ]
  },
  {
   "cell_type": "code",
   "execution_count": null,
   "metadata": {},
   "outputs": [],
   "source": [
    "from langchain_aws import ChatBedrock\n",
    "\n",
    "chat_model = ChatBedrock(\n",
    "    model=model,\n",
    "    region=\"us-east-1\",\n",
    "    aws_access_key_id=\"\",\n",
    "    aws_secret_access_key=\"\",\n",
    ")"
   ]
  },
  {
   "cell_type": "code",
   "execution_count": null,
   "metadata": {},
   "outputs": [],
   "source": [
    "import textwrap\n",
    "\n",
    "from langchain_core.prompts import (\n",
    "    ChatPromptTemplate,\n",
    "    HumanMessagePromptTemplate,\n",
    "    SystemMessagePromptTemplate,\n",
    ")\n",
    "\n",
    "\n",
    "translate_multi_texts_prompt = ChatPromptTemplate.from_messages(\n",
    "    [\n",
    "        SystemMessagePromptTemplate.from_template(\n",
    "            textwrap.dedent(\n",
    "                \"\"\"\n",
    "                You are a helpful assistant that can translate texts to {language}.\n",
    "                We will provide you a json format with a list of texts to translate.\n",
    "                \n",
    "                There are several rules you MUST follow:\n",
    "                1. Translate the original text as far as possible and do not lose the content. \n",
    "                2. Translate the text wherever possible. If this is not possible, return to the original text\n",
    "                3. Never translate the links, code in the text.\n",
    "                4. Always return the translated texts in the same order as the input texts.\n",
    "                5. We will provide you {size} texts to translate. You should generate {size} texts in the target language.\n",
    "                \"\"\"\n",
    "            )\n",
    "        ),\n",
    "        HumanMessagePromptTemplate.from_template(\"Texts that needs to be translated is as follows: \\n{texts}\"),\n",
    "    ]\n",
    ")\n",
    "\n",
    "translate_multi_texts_structured_output_tool = {\n",
    "    \"name\": \"translate_texts_result\",\n",
    "    \"description\": \"translate the json format user input into the target language, and return the translated texts\",\n",
    "    \"parameters\": {\n",
    "        \"type\": \"object\",\n",
    "        \"properties\": {\n",
    "            \"translated_texts\": {\n",
    "                \"type\": \"array\",\n",
    "                \"items\": {\"type\": \"string\"},\n",
    "                \"description\": \"The translated texts\",\n",
    "            },\n",
    "        },\n",
    "        \"required\": [\"translated_texts\"],\n",
    "    },\n",
    "}"
   ]
  },
  {
   "cell_type": "code",
   "execution_count": null,
   "metadata": {},
   "outputs": [],
   "source": [
    "import json\n",
    "\n",
    "\n",
    "prompts = translate_multi_texts_prompt.format_messages(\n",
    "    language=target_language,\n",
    "    size=len(texts),\n",
    "    texts=json.dumps(texts, ensure_ascii=False, indent=2),\n",
    ")\n",
    "res = chat_model.with_structured_output(\n",
    "    translate_multi_texts_structured_output_tool\n",
    ").invoke(prompts)\n",
    "res"
   ]
  }
 ],
 "metadata": {
  "kernelspec": {
   "display_name": ".venv",
   "language": "python",
   "name": "python3"
  },
  "language_info": {
   "codemirror_mode": {
    "name": "ipython",
    "version": 3
   },
   "file_extension": ".py",
   "mimetype": "text/x-python",
   "name": "python",
   "nbconvert_exporter": "python",
   "pygments_lexer": "ipython3",
   "version": "3.12.9"
  }
 },
 "nbformat": 4,
 "nbformat_minor": 2
}
